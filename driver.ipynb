{
 "cells": [
  {
   "cell_type": "code",
   "execution_count": 7,
   "metadata": {},
   "outputs": [],
   "source": [
    "import os\n",
    "import chromadb\n",
    "from chromadb.config import DEFAULT_TENANT, DEFAULT_DATABASE, Settings"
   ]
  },
  {
   "cell_type": "code",
   "execution_count": 44,
   "metadata": {},
   "outputs": [
    {
     "data": {
      "text/plain": [
       "'/home/sanchez/VScode_consolidated/task1/db/'"
      ]
     },
     "execution_count": 44,
     "metadata": {},
     "output_type": "execute_result"
    }
   ],
   "source": [
    "DIR = os.path.dirname(os.path.abspath(__name__))\n",
    "DB_PATH = os.path.join(DIR, 'db/')\n",
    "DB_PATH"
   ]
  },
  {
   "cell_type": "code",
   "execution_count": 45,
   "metadata": {},
   "outputs": [],
   "source": [
    "# Connect to the running ChromaDB instance\n",
    "client = chromadb.PersistentClient(path=DB_PATH)"
   ]
  },
  {
   "cell_type": "code",
   "execution_count": 50,
   "metadata": {},
   "outputs": [],
   "source": [
    "# Create or get a collection\n",
    "collection = client.create_collection(\"pdf_name\")"
   ]
  },
  {
   "cell_type": "code",
   "execution_count": 51,
   "metadata": {},
   "outputs": [],
   "source": [
    "# Add data to the collection\n",
    "documents = [\"This is a beach\", \"The forest is green\", \"Urban areas are crowded\"]\n",
    "metadatas = [{\"category\": \"beach\"}, {\"category\": \"forest\"}, {\"category\": \"urban\"}]\n",
    "ids = [\"1\", \"2\", \"3\"]\n",
    "\n",
    "collection.add(documents=documents, metadatas=metadatas, ids=ids)"
   ]
  },
  {
   "cell_type": "code",
   "execution_count": 52,
   "metadata": {},
   "outputs": [
    {
     "name": "stdout",
     "output_type": "stream",
     "text": [
      "{'ids': [['2', '1', '3']], 'distances': [[0.8161929381010665, 1.6312474679542952, 1.6889317385852014]], 'metadatas': [[{'category': 'forest'}, {'category': 'beach'}, {'category': 'urban'}]], 'embeddings': None, 'documents': [['The forest is green', 'This is a beach', 'Urban areas are crowded']], 'uris': None, 'data': None, 'included': ['metadatas', 'documents', 'distances']}\n"
     ]
    }
   ],
   "source": [
    "# Query the collection\n",
    "results = collection.query(\n",
    "    query_texts=[\"What are forests like?\"],\n",
    "    n_results=3  # Number of results to return\n",
    ")\n",
    "\n",
    "# Print the results\n",
    "print(results)"
   ]
  },
  {
   "cell_type": "code",
   "execution_count": 53,
   "metadata": {},
   "outputs": [
    {
     "name": "stderr",
     "output_type": "stream",
     "text": [
      "/home/sanchez/VScode_consolidated/task1/venv/lib/python3.12/site-packages/sentence_transformers/cross_encoder/CrossEncoder.py:13: TqdmWarning: IProgress not found. Please update jupyter and ipywidgets. See https://ipywidgets.readthedocs.io/en/stable/user_install.html\n",
      "  from tqdm.autonotebook import tqdm, trange\n"
     ]
    }
   ],
   "source": [
    "from sentence_transformers import SentenceTransformer"
   ]
  },
  {
   "cell_type": "code",
   "execution_count": 54,
   "metadata": {},
   "outputs": [],
   "source": [
    "model = SentenceTransformer('sentence-transformers/all-MiniLM-L6-v2')"
   ]
  },
  {
   "cell_type": "code",
   "execution_count": 60,
   "metadata": {},
   "outputs": [
    {
     "data": {
      "text/plain": [
       "np.True_"
      ]
     },
     "execution_count": 60,
     "metadata": {},
     "output_type": "execute_result"
    }
   ],
   "source": [
    "DOG_embeddings = model.encode([\"DOG\"])\n",
    "dog_embeddings = model.encode([\"dog\"])\n",
    "(DOG_embeddings == dog_embeddings).all()"
   ]
  },
  {
   "cell_type": "code",
   "execution_count": 62,
   "metadata": {},
   "outputs": [
    {
     "name": "stdout",
     "output_type": "stream",
     "text": [
      "False False False\n"
     ]
    }
   ],
   "source": [
    "good_embeddings = model.encode([\"good\"])\n",
    "better_embeddings = model.encode([\"better\"])\n",
    "best_embeddings = model.encode([\"best\"])\n",
    "print(\n",
    "  (good_embeddings == better_embeddings).all(),\n",
    "  (good_embeddings == best_embeddings).all(),\n",
    "  (better_embeddings == best_embeddings).all()\n",
    ")"
   ]
  },
  {
   "cell_type": "code",
   "execution_count": 64,
   "metadata": {},
   "outputs": [
    {
     "name": "stdout",
     "output_type": "stream",
     "text": [
      "False\n"
     ]
    }
   ],
   "source": [
    "very_good_embeddings = model.encode([\"very good\"])\n",
    "better_embeddings_embeddings = model.encode([\"better\"])\n",
    "print((very_good_embeddings == better_embeddings_embeddings).all())"
   ]
  }
 ],
 "metadata": {
  "kernelspec": {
   "display_name": "venv",
   "language": "python",
   "name": "python3"
  },
  "language_info": {
   "codemirror_mode": {
    "name": "ipython",
    "version": 3
   },
   "file_extension": ".py",
   "mimetype": "text/x-python",
   "name": "python",
   "nbconvert_exporter": "python",
   "pygments_lexer": "ipython3",
   "version": "3.12.3"
  }
 },
 "nbformat": 4,
 "nbformat_minor": 2
}
